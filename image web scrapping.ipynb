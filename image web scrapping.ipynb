{
 "cells": [
  {
   "cell_type": "markdown",
   "metadata": {},
   "source": [
    "# Image Scarpping \n",
    "#### For deep learning we need huge ammout of data to train our model, manually getting or downloading those images involves heavy work and time consuming though, this program will help you to download the image by giving apropriate inputs."
   ]
  },
  {
   "cell_type": "code",
   "execution_count": 9,
   "metadata": {},
   "outputs": [],
   "source": [
    "import os\n",
    "import sys\n",
    "import urllib.request\n",
    "import requests\n",
    "from bs4 import BeautifulSoup\n",
    "from PIL import Image\n",
    "from io import BytesIO\n",
    "import json"
   ]
  },
  {
   "cell_type": "code",
   "execution_count": 49,
   "metadata": {},
   "outputs": [],
   "source": [
    "def Bingmagescrapper(keyword,path=None, hd=False):\n",
    "    search = keyword\n",
    "    params = search.replace(' ', \"+\")\n",
    "    dir_name = search.replace(' ', '_')\n",
    "    \n",
    "    if path == None:\n",
    "        os.makedirs('./'+dir_name, exist_ok=True)\n",
    "        loc_path = './'+ dir_name\n",
    "    else:\n",
    "        os.makedirs(path+dir_name, exist_ok=True)\n",
    "        loc_path = path+ dir_name\n",
    "        \n",
    "    \n",
    "    url = \"http://www.bing.com/images/search?q=\" + params + \"&form=HDRSC2&first=1&scenario=ImageBasicHover\"\n",
    "    header = {'User-Agent':\"Mozilla/5.0 (Windows NT 6.1; WOW64) AppleWebKit/537.36 (KHTML, like Gecko) Chrome/43.0.2357.134 Safari/537.36\"}\n",
    "    source = requests.get(url, headers=header).text\n",
    "    \n",
    "    soup = BeautifulSoup(source, 'html.parser')\n",
    "    thumbs =soup.find_all('a', {'class':'iusc'})\n",
    "    if hd == True :\n",
    "        try:\n",
    "            raw_image = []\n",
    "            for index,tag in enumerate(thumbs):\n",
    "                # murl return HD image, High resolution\n",
    "                img_tag_hd = json.loads(tag['m'])\n",
    "                img_raw_hd = img_tag_hd['murl']\n",
    "                raw_image.append(img_raw_hd)\n",
    "                \n",
    "        except:\n",
    "            print(\"Colud not download\")\n",
    "    else:\n",
    "        raw_image = []\n",
    "        for index,tag in enumerate(thumbs):\n",
    "        #turl mostly it is thumb so low resolution\n",
    "            img_tag = json.loads(tag['m'])\n",
    "            img_raw = img_tag['turl']\n",
    "            raw_image.append(img_raw)\n",
    "           \n",
    "    #Saving in our drive\n",
    "    for index,img in enumerate(raw_image):\n",
    "        file_path = os.path.join(loc_path, dir_name+ str(index))\n",
    "        img_temp = requests.get(img).content\n",
    "        img = Image.open(BytesIO(img_temp))\n",
    "        img.save(file_path+'.jpg')\n",
    "        \n",
    "    print(len(raw_image), \"images are downloaded..!\")\n",
    "        \n",
    "        \n",
    "    return raw_image\n",
    "\n",
    "    \n",
    "    "
   ]
  },
  {
   "cell_type": "code",
   "execution_count": 50,
   "metadata": {},
   "outputs": [
    {
     "name": "stdout",
     "output_type": "stream",
     "text": [
      "35 images are downloaded..!\n"
     ]
    }
   ],
   "source": [
    "raw = Bingmagescrapper('F-16 fighter', path='F:Data_set/CNN/')"
   ]
  },
  {
   "cell_type": "code",
   "execution_count": 51,
   "metadata": {},
   "outputs": [
    {
     "data": {
      "text/plain": [
       "['http://tse4.mm.bing.net/th?id=OIP.BQEz70HVBtRsE3L75p9ZTAHaE8&pid=15.1',\n",
       " 'http://tse3.mm.bing.net/th?id=OIP.vZexqWLNg9y2B-HQ6ckTuAHaF7&pid=15.1',\n",
       " 'http://tse4.mm.bing.net/th?id=OIP.zwsIoA2nES4qRUfzzXSDMAHaE7&pid=15.1',\n",
       " 'http://tse4.mm.bing.net/th?id=OIP.1ZDuH5DRGWjkmFnHDiIvhQHaE4&pid=15.1',\n",
       " 'http://tse1.mm.bing.net/th?id=OIP.tqWYq_Kfoi2tqAX1dmUGXgHaE7&pid=15.1',\n",
       " 'http://tse1.mm.bing.net/th?id=OIP.7OcaVmVMDe9erhaQmAKxuQHaF7&pid=15.1',\n",
       " 'http://tse2.mm.bing.net/th?id=OIP._jRdA6URdmUEHgaIhpHDhwHaEK&pid=15.1',\n",
       " 'http://tse2.mm.bing.net/th?id=OIP._1pWYbwKixoT8mpaWMSXPwHaEo&pid=15.1',\n",
       " 'http://tse1.mm.bing.net/th?id=OIP.qt72Hy9zM0n9b72qgp0EfQHaF7&pid=15.1',\n",
       " 'http://tse2.mm.bing.net/th?id=OIP.MGbB8_aZIuRnpO-mvg44dwHaFC&pid=15.1',\n",
       " 'http://tse2.mm.bing.net/th?id=OIP.QpegmIC2ITBs0TiqcR89ugHaFt&pid=15.1',\n",
       " 'http://tse3.mm.bing.net/th?id=OIP.eOvazs3JxWM3E7gQ7tCM1gHaEU&pid=15.1',\n",
       " 'http://tse2.mm.bing.net/th?id=OIP.QyVHTMFIfGdL1UIviQLY3wHaFS&pid=15.1',\n",
       " 'http://tse4.mm.bing.net/th?id=OIP.UyH6TZ6klxB-6gf5AdatBAHaFD&pid=15.1',\n",
       " 'http://tse1.mm.bing.net/th?id=OIP.OKmIxjRsHKtWnoWLq5nAXAHaGa&pid=15.1',\n",
       " 'http://tse3.mm.bing.net/th?id=OIP.RtygSQafeD5ZcIFee6RtLwHaEo&pid=15.1',\n",
       " 'http://tse4.mm.bing.net/th?id=OIP.dMWHlN9_7hhfZEPiHTAYMAHaE8&pid=15.1',\n",
       " 'http://tse4.mm.bing.net/th?id=OIP.PZL659ULRS5G42Es9jtgxwHaEo&pid=15.1',\n",
       " 'http://tse4.mm.bing.net/th?id=OIP.mmCGLdSPLGp2jgrsxzGkIQHaEo&pid=15.1',\n",
       " 'http://tse2.mm.bing.net/th?id=OIP.-R0ZBR9ywi5Esm8-avKCfgHaDL&pid=15.1',\n",
       " 'http://tse2.mm.bing.net/th?id=OIP.FNuXHX1uk2hCk4BeqoOlSgHaF7&pid=15.1',\n",
       " 'http://tse4.mm.bing.net/th?id=OIP.5FwKSGi7xFEYDgrEM9sNEwHaEo&pid=15.1',\n",
       " 'http://tse3.mm.bing.net/th?id=OIP.l6yvJoPQ8bhcEXJZc9YlKQHaFj&pid=15.1',\n",
       " 'http://tse3.mm.bing.net/th?id=OIP.Wr7pWByYTk6L7owjTxcibwHaE8&pid=15.1',\n",
       " 'http://tse1.mm.bing.net/th?id=OIP.V-__U4ZsCJ0MuQigl_Ef5QHaEK&pid=15.1',\n",
       " 'http://tse4.mm.bing.net/th?id=OIP.CoUCMeoRwl8c0Mvlv_e5gwHaE8&pid=15.1',\n",
       " 'http://tse1.mm.bing.net/th?id=OIP.Uw5Sdp6tVroDXcWltI-dtQHaJl&pid=15.1',\n",
       " 'http://tse2.mm.bing.net/th?id=OIP.ksMXf553pQpcPABJkenr2AHaE8&pid=15.1',\n",
       " 'http://tse2.mm.bing.net/th?id=OIP.BNMpjRI_AF2h-nI0rcn3HwHaFj&pid=15.1',\n",
       " 'http://tse3.mm.bing.net/th?id=OIP.rgLBEKp8ECpa3gvfdwGtFQHaE8&pid=15.1',\n",
       " 'http://tse4.mm.bing.net/th?id=OIP.vBzQ5bmyi9SDMFLkEf0J0gHaEo&pid=15.1',\n",
       " 'http://tse4.mm.bing.net/th?id=OIP.rtqShw8W249bu7ogDvKg7AHaEZ&pid=15.1',\n",
       " 'http://tse2.mm.bing.net/th?id=OIP.S3lvsl7jEliAFm5JueJAJgHaE3&pid=15.1',\n",
       " 'http://tse1.mm.bing.net/th?id=OIP.Ex4Rk5udkBtFBiy0TteeowHaFH&pid=15.1',\n",
       " 'http://tse1.mm.bing.net/th?id=OIP.90kCnz6Fqn9ChkJoTUKfeAHaE7&pid=15.1']"
      ]
     },
     "execution_count": 51,
     "metadata": {},
     "output_type": "execute_result"
    }
   ],
   "source": [
    "raw\n"
   ]
  },
  {
   "cell_type": "code",
   "execution_count": null,
   "metadata": {},
   "outputs": [],
   "source": []
  }
 ],
 "metadata": {
  "kernelspec": {
   "display_name": "Python 3",
   "language": "python",
   "name": "python3"
  },
  "language_info": {
   "codemirror_mode": {
    "name": "ipython",
    "version": 3
   },
   "file_extension": ".py",
   "mimetype": "text/x-python",
   "name": "python",
   "nbconvert_exporter": "python",
   "pygments_lexer": "ipython3",
   "version": "3.8.2"
  }
 },
 "nbformat": 4,
 "nbformat_minor": 4
}
